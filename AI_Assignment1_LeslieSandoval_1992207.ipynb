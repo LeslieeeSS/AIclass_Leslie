{
  "nbformat": 4,
  "nbformat_minor": 0,
  "metadata": {
    "colab": {
      "provenance": [],
      "authorship_tag": "ABX9TyMSiN6iirDN4RCSursKGQOH",
      "include_colab_link": true
    },
    "kernelspec": {
      "name": "python3",
      "display_name": "Python 3"
    },
    "language_info": {
      "name": "python"
    }
  },
  "cells": [
    {
      "cell_type": "markdown",
      "metadata": {
        "id": "view-in-github",
        "colab_type": "text"
      },
      "source": [
        "<a href=\"https://colab.research.google.com/github/LeslieeeSS/AIclass_Leslie/blob/main/AI_Assignment1_LeslieSandoval_1992207.ipynb\" target=\"_parent\"><img src=\"https://colab.research.google.com/assets/colab-badge.svg\" alt=\"Open In Colab\"/></a>"
      ]
    },
    {
      "cell_type": "markdown",
      "source": [
        "Activity 2: Python Excercises\n",
        "\n",
        "Leslie Sandoval Saldaña - 1992207\n",
        "\n",
        "Artificial Intelligence, Thursdays N4"
      ],
      "metadata": {
        "id": "nBXcQhloRxDc"
      }
    },
    {
      "cell_type": "code",
      "source": [
        "\"\"\"Exercise 1\"\"\"\n",
        "name = input(\"Enter a name here:\")\n",
        "a =\"Ana\"\n",
        "j =\"John\"\n",
        "p = \"Peter\"\n",
        "if(name!=a) :\n",
        "  if(name!=j):\n",
        "    if(name!=p):\n",
        "      print(\"Hello\", (name), \":)\")"
      ],
      "metadata": {
        "colab": {
          "base_uri": "https://localhost:8080/"
        },
        "id": "9tw0lF3yTQit",
        "outputId": "7f87f416-c44f-4fe0-9031-ca17eb9d903d"
      },
      "execution_count": null,
      "outputs": [
        {
          "output_type": "stream",
          "name": "stdout",
          "text": [
            "Enter a name here:Leslie\n",
            "Hello Leslie :)\n"
          ]
        }
      ]
    },
    {
      "cell_type": "code",
      "source": [
        "\"\"\"Exercise 2\"\"\"\n",
        "MUProducts=[\"primer\", \"foudation\", \"concealer\", \"bornzer\", \"blush\", \"setting powder\", \"eyeliner\", \"mascara\", \"highlighter\"]\n",
        "print(MUProducts[8])\n",
        "rev=list(reversed(MUProducts))\n",
        "print(rev)"
      ],
      "metadata": {
        "colab": {
          "base_uri": "https://localhost:8080/"
        },
        "id": "DHwila03dQ5u",
        "outputId": "477bce38-0ac5-47b6-ca85-f9f2fff62799"
      },
      "execution_count": null,
      "outputs": [
        {
          "output_type": "stream",
          "name": "stdout",
          "text": [
            "highlighter\n",
            "['highlighter', 'mascara', 'eyeliner', 'setting powder', 'blush', 'bornzer', 'concealer', 'foudation', 'primer']\n"
          ]
        }
      ]
    },
    {
      "cell_type": "code",
      "source": [
        "def print_in_a_frame(groceries):\n",
        "  maximum=max(len(grocery) for grocery in groceries)\n",
        "  if(maximum%2==0):\n",
        "      size=maximum+4\n",
        "      print(\"*\"*(size))\n",
        "  else:\n",
        "      size=size=maximum+4+1\n",
        "      print(\"\"(size))\n",
        "  for grocery in groceries:\n",
        "      length=len(grocery)\n",
        "      s=size-length-3\n",
        "      print(\"*\"+\" \"+grocery+\" \"*s+\"*\")\n",
        "  print(\"*\"*(size))  \n",
        "\n",
        "groceries=[\"watermelon\",\"tomato\",\"apple\",\"bananas\",\"strawberry\"]\n",
        "\n",
        "print_in_a_frame(groceries)"
      ],
      "metadata": {
        "colab": {
          "base_uri": "https://localhost:8080/"
        },
        "id": "ww9Sf_5JwaeU",
        "outputId": "dfeb6f8c-fa6a-4b26-cf3a-56e1a53d4c43"
      },
      "execution_count": 57,
      "outputs": [
        {
          "output_type": "stream",
          "name": "stdout",
          "text": [
            "**************\n",
            "* watermelon *\n",
            "* tomato     *\n",
            "* apple      *\n",
            "* bananas    *\n",
            "* strawberry *\n",
            "**************\n"
          ]
        }
      ]
    }
  ]
}